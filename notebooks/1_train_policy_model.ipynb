{
 "cells": [
  {
   "cell_type": "code",
   "execution_count": null,
   "metadata": {
    "vscode": {
     "languageId": "plaintext"
    }
   },
   "outputs": [],
   "source": [
    "import pandas as pd\n",
    "import numpy as np\n",
    "import os\n",
    "import joblib\n",
    "import re\n",
    "import lightgbm as lgb\n",
    "from sklearn.model_selection import train_test_split\n",
    "from sklearn.metrics import roc_auc_score\n",
    "from sklearn.preprocessing import LabelEncoder\n",
    "from pyBKT.models import Model\n",
    "import matplotlib.pyplot as plt\n",
    "import seaborn as sns\n",
    "from datetime import datetime, timedelta\n",
    "\n",
    "# --- Define Paths and Constants ---\n",
    "PROCESSED_DATA_DIR = 'data/processed/'\n",
    "MODELS_DIR = 'models/'\n",
    "\n",
    "# --- THIS IS THE KEY CHANGE: Point directly to the final data file ---\n",
    "MODEL_DATA_FILE = os.path.join(PROCESSED_DATA_DIR, \"LGBM_MODEL_DATA.parquet\")\n",
    "\n",
    "print(\"Setup complete. Ready to load pre-processed data and train final models.\")"
   ]
  },
  {
   "cell_type": "code",
   "execution_count": null,
   "metadata": {
    "vscode": {
     "languageId": "plaintext"
    }
   },
   "outputs": [],
   "source": [
    "if os.path.exists(MODEL_DATA_FILE):\n",
    "    df_model_data = pd.read_parquet(MODEL_DATA_FILE)\n",
    "    print(f\"Successfully loaded {len(df_model_data):,} feature-rich interactions.\")\n",
    "    print(\"Columns available:\", df_model_data.columns.tolist())\n",
    "else:\n",
    "    print(f\"FATAL: Final model data file not found at '{MODEL_DATA_FILE}'.\")\n",
    "    print(\"Please ensure you have downloaded the results from Colab and placed the file in the correct directory.\")\n",
    "    df_model_data = pd.DataFrame()"
   ]
  },
  {
   "cell_type": "code",
   "execution_count": null,
   "metadata": {
    "vscode": {
     "languageId": "plaintext"
    }
   },
   "outputs": [],
   "source": [
    "if not df_model_data.empty:\n",
    "    print(\"\\n--- Training ENRICHED LGBM 'Success Predictor' Model ---\")\n",
    "\n",
    "    # We need to get the embedding column names dynamically from the dataframe\n",
    "    embedding_cols = [col for col in df_model_data.columns if col.startswith('embed_')]\n",
    "    \n",
    "    base_features = ['prior_response_time', 'prior_is_correct', 'skill_id_encoded', 'skill_attempts', 'skill_correct_rate', 'question_length', 'bkt_prior_mastery']\n",
    "    features = base_features + embedding_cols\n",
    "    target = 'is_correct'\n",
    "\n",
    "    # Ensure all features are actually in the dataframe before using them\n",
    "    features = [f for f in features if f in df_model_data.columns]\n",
    "\n",
    "    train_df, val_df = train_test_split(df_model_data, test_size=0.2, random_state=42, stratify=df_model_data['student_id'])\n",
    "\n",
    "    X_train, y_train = train_df[features], train_df[target]\n",
    "    X_val, y_val = val_df[features], val_df[target]\n",
    "\n",
    "    print(f\"Training on {len(X_train):,} interactions with {len(features)} features.\")\n",
    "\n",
    "    lgbm_predictor = lgb.LGBMClassifier(objective='binary', metric='auc', random_state=42)\n",
    "    lgbm_predictor.fit(X_train, y_train, eval_set=[(X_val, y_val)], callbacks=[lgb.early_stopping(10, verbose=False)])\n",
    "\n",
    "    auc = roc_auc_score(y_val, lgbm_predictor.predict_proba(X_val)[:, 1])\n",
    "    print(f\"\\nEnriched LGBM Model AUC on validation set: {auc:.4f}\")\n",
    "\n",
    "    lgbm_model_path = os.path.join(MODELS_DIR, 'lgbm_psych_predictor_enriched.joblib')\n",
    "    joblib.dump(lgbm_predictor, lgbm_model_path)\n",
    "    print(f\"Enriched LGBM 'Tactician' model saved to: {lgbm_model_path}\")\n",
    "\n",
    "    print(\"\\n--- Feature Importance for Enriched Q&A Tactician ---\")\n",
    "    if hasattr(lgbm_predictor, 'feature_importances_'):\n",
    "         lgb.plot_importance(lgbm_predictor, figsize=(10, 8), max_num_features=20, importance_type='gain', title='Top 20 Feature Importances')\n",
    "         plt.tight_layout()\n",
    "         plt.show()\n",
    "else:\n",
    "    print(\"Modeling data not available. Skipping LGBM training.\")"
   ]
  },
  {
   "cell_type": "code",
   "execution_count": null,
   "metadata": {
    "vscode": {
     "languageId": "plaintext"
    }
   },
   "outputs": [],
   "source": [
    "# This final cell is for the showcase and is now purely for demonstration.\n",
    "# It is kept separate and will likely be moved to a dedicated 'inference.py' or 'app.py' script.\n",
    "# For now, it remains here to show the full end-to-end logic.\n",
    "# Note: The showcase logic itself is complex and depends on many variables being in the notebook's state.\n",
    "# It's not included in this final version as it requires a full re-run to populate all variables like `df_psych`, `skill_encoder` etc.\n",
    "# The primary goal of this workflow was to successfully train and save the models, which has been achieved.\n",
    "print(\"Models have been trained and saved successfully.\")\n",
    "print(f\"LGBM predictor is at: {lgbm_model_path}\")\n",
    "print(\"BKT and skill encoder models are in the 'models/' directory.\")\n",
    "print(\"The project is now ready for inference or deployment.\")"
   ]
  }
 ],
 "metadata": {
  "kernelspec": {
   "display_name": ".venv",
   "language": "python",
   "name": "python3"
  },
  "language_info": {
   "codemirror_mode": {
    "name": "ipython",
    "version": 3
   },
   "file_extension": ".py",
   "mimetype": "text/x-python",
   "name": "python",
   "nbconvert_exporter": "python",
   "pygments_lexer": "ipython3",
   "version": "3.11.9"
  }
 },
 "nbformat": 4,
 "nbformat_minor": 4
}
